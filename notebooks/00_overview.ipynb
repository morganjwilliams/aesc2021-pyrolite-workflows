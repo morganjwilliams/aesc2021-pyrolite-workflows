{
 "cells": [
  {
   "cell_type": "markdown",
   "metadata": {},
   "source": [
    "# Workflow Examples and Demonstrations\n",
    "\n",
    "[![License: MIT License](https://img.shields.io/badge/License-MIT-blue.svg)](https://github.com/morganjwilliams/aesc2021-pyrolite-workflows/blob/main/LICENSE)\n",
    "\n",
    "This repository hosts a series of short examples of how `pyrolite` can help facilitate more reproducible geochemical workflows. It is a complement to the poster 'Geochemical Data Analysis Workflows with pyrolite' for the Australian Earth Sciences Convention 2021 session 'Core to Crust - Advances in understanding volcanic and magmatic processes'. We've included a copy of the abstract below for quick reference.\n",
    "\n",
    "<img src=\"https://pyrolite.readthedocs.io/en/master/_static/icon.png\" style=\"display:inline; float: right; margin: 0px 15px 15px 0px;\" width=\"25%\"/>\n",
    "\n",
    "### Abstract: Geochemical Data Analysis Workflows with pyrolite\n",
    "\n",
    "<em>\n",
    "    <b>Morgan Williams</b>, Louise Schoneveld\n",
    "</em>\n",
    "\n",
    "The availability and accessibility of instrumentation to rapidly acquire large volumes of geochemical data has steadily increased over recent decades. However, the geochemical community as a whole is only beginning to embrace the flexibility and relative power of adopting high-level programming languages (e.g. Python) to process, summarise and visualise this data. This emerging shift provides opportunities to address scientific reproducibility concerns, increase the comparability of geochemical datasets, and develop transferable digital skills within the research community. Taking a declarative programmatic approach to data processing and analysis makes these tasks more repeatable, particularly when compared to multi-stage workflows based on extensive user interface interaction where steps are often only descriptively documented. When combined with versioning and environment management, this approach enables reproducible workflows which can be shared such that others can effectively examine, compare and re-use existing code as needed. To address the relative scarcity of geochemistry-focused tools and support adoption of a programmatic approach to geochemical data analysis we’ve developed pyrolite - an open source Python package for working with geochemical data. In this presentation we’ll provide an overview of a series of short examples demonstrating some of the advantages of adopting a programmatic approach to geochemical data analysis workflows and highlighting some of pyrolite’s key features.\n",
    "\n",
    "pyrolite aims to allow new users to get off the ground quickly by providing ‘batteries included’ functionality for transforming, analysing and visualising geochemical and compositional data. The package contains a suite of functions commonly used in geochemical data workflows, including log-transforms for working with compositional data in a robust manner, scaling between units and simple element-oxide conversion. pyrolite also implements several  common geochemical visualisations and plot templates, and provides easy access to data-density based visualisation methods better adapted to larger multivariate datasets with hundreds to hundreds of thousands of samples. Beyond providing foundational functionality, pyrolite also provides a framework to encode and document relevant algorithms recently introduced to the geochemistry community (e.g. lambdas for parameterising rare earth element profiles, bootstrap resampling methods) and also link geochemical data to common machine learning frameworks (e.g. scikit-learn). The package is built upon and exposes the API of commonly used scientific Python packages, including matplotlib and pandas, allowing a greater degree of interoperability and familiarity for new users.\n",
    "\n",
    "The package and related tools continue to be actively developed, and the package has recently been peer reviewed and published. Future development is planned to include support for interactive visualization and will expand the set of examples and tutorials within the documentation suite. The project is being developed for and by the geochemistry community, and we encourage new users to get involved. We hope to foster a growing community of users and contributors to ensure the long-term sustainability and usefulness of the project; all forms of contribution to the project are welcome.\n",
    "\n",
    "\n",
    "<img src=\"https://upload.wikimedia.org/wikipedia/commons/thumb/3/38/Jupyter_logo.svg/518px-Jupyter_logo.svg.png\" style=\"display:inline; float: right; margin: 20px 10px 10px 20px;\" width=\"15%\"/>\n",
    "\n",
    "#### New to Jupyter?\n",
    "\n",
    "If you're new to Jupyter, the main thing you'll need to know for this set of notebooks is that you can use `Shift+Enter` to execute cells of code (or press the 'play' button). This notebook should have launched in Jupyter Lab if you've come via the poster or binder link; this is an interface which provides a file browser to your left, a main workspace (if you're reading this, the space occupied by this notebook) and organises separate open notebooks in tabs (see above this cell). If you'd like a more detailed overview of the Jupyter interface, you can check out [the respective documentation](https://jupyterlab.readthedocs.io/en/stable/user/interface.html).\n",
    "\n",
    "## Notebook Examples\n",
    "\n",
    "----\n",
    "### I : [Data 'Munging'](./01_munging.ipynb)\n",
    "\n",
    "In this notebook we'll go through some of the tasks which pyrolite can help make a bit easier with respect to creating tidily formatted datasets and getting your data analysis ready.\n",
    "\n",
    "----\n",
    "\n",
    "### II: [Handling Compositional Data](./02_compositional_data.ipynb)\n",
    "\n",
    "In this notebook we'll look at how failing to account for the compositional nature of geochemical data can provide more biased statistical estimates. We'll also show how to access the pyrolite functions for logratio transformations which allow more robust statistical analysis of these data, and highlight some pitfalls and challenges which exist.\n",
    "\n",
    "----\n",
    "\n",
    "### III: [Geochemistry for Machine Learning Pipelines](./03_geochem_for_ML.ipynb)\n",
    "\n",
    "In this notebook we'll provide a simple example of preprocessing some geochemical data for use in a classification workflow.\n",
    "\n",
    "----"
   ]
  }
 ],
 "metadata": {
  "kernelspec": {
   "display_name": "Python 3",
   "language": "python",
   "name": "python3"
  },
  "language_info": {
   "codemirror_mode": {
    "name": "ipython",
    "version": 3
   },
   "file_extension": ".py",
   "mimetype": "text/x-python",
   "name": "python",
   "nbconvert_exporter": "python",
   "pygments_lexer": "ipython3",
   "version": "3.7.4"
  }
 },
 "nbformat": 4,
 "nbformat_minor": 4
}
