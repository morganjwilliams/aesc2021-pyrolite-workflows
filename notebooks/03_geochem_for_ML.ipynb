{
 "cells": [
  {
   "cell_type": "markdown",
   "metadata": {},
   "source": [
    "# Geochem for Machine Learning: Preprocessing and a Simple Classification Example\n",
    "\n",
    "In this notebook we'll provide a simple example of preprocessing some geochemical data for use in a classificaiton workflow. We'll also look at how this contrasts to more traditional methods of classification within geochemistry, and how programmatic workflows and tools can not only make this more robust, but also more reproducible. This exercise is adapted somewhat from earlier examples of the first author, here with a slightly different focus. The principal role of `pyrolite` in this example is for getting data in shape such that it's ready to be input into a machine learning workflow/pipeline (largely facilitated by [`scikit-learn`](https://scikit-learn.org/)), but we can also examine how a data-driven programmatic approach provides a number of advantages over other traditional methods - including reproducibility.\n"
   ]
  },
  {
   "cell_type": "markdown",
   "metadata": {},
   "source": [
    "## Traditional Classification Methods in Geochemistry\n",
    "\n",
    "In geochemistry, classification is for historical reasons often treated as a graphical or two-dimensional problem for which the output includes a graphically-represented classification or discrimination diagram (driven by a need to visualize the data; e.g. [Pearce, 1973]; [Le Bas et al. 1992] ). And while many of these diagrams have been practically useful for 'binning' and describing rocks, the divisions we use don't necessarily make sense in the natural world (e.g. consider the Total Alkali - Silica diagram). Modern statistical and machine learning techniques can readily be applied to make better use of the data dimensionality and move beyond the human-centric limitations. In this case a data driven approach instead considers divisions according to the natural clustering of data, where they exist.\n",
    "\n",
    "## Towards Multivariate Machine Classification\n",
    "\n",
    "Below we'll demonstrate a machine learning approach to classifying basalt geochemistry based on tectonic setting. We'll adapt a version of a support vector classifier, similar to those previously used for this problem ([Petrelli, 2016]; [Ueki, 2018]), and re-use the same 29-dimension tectonic discrimination dataset (just over 2000 samples taken from global repositories, each with majors, minors, traces and isotopes) from Ueki et al. (2018), modified to record the tectonic setting of each basalt in a 'Class' column.\n",
    "\n",
    "First let's examine a well-used trace element discrimination diagram (the Th-Nb-Yb diagram; [Pearce, 2008]) to get some insight what some of the key issues with classification using only a few elements or dimension. This is one of number of classification and tectonic diagrams have been developed which use specific geochemical proxies to link rock and mineral geochemistry to geological processes and reservoirs (here Nb/Yb and Th/Yb which distinguish relative enrichment of the mantle and arc-related processes). As the diagram presents only two dimensions (or three, depending who you talk to), the data presented show only part of the whole picture. This reduced dimensionality means that when you compare rocks from a variety of settings, you're likely to see large degrees of overlap, as found by [Li et al. (2015)], and shown below. While the diagram is not particularly useful as a classification tool, the proxies used (ratios or otherwise) still provide useful 'features' which can be added to datasets before constructing a multivariate classifier.\n",
    "\n",
    "| <img src=\"https://github.com/morganjwilliams/gs2020-diggingdeeper/raw/develop/img/Smithies2018Fig1.png\" style=\"display:inline; margin: 0px 15px 15px 0px;\" width=\"70%\"/>|<img src=\"https://github.com/morganjwilliams/gs2020-diggingdeeper/raw/develop/img/Li2015Fig9.png\" style=\"display:inline; margin: 0px 15px 15px 0px;\" width=\"70%\"/> |\n",
    "|--|--|\n",
    "| Figure from [Smithies (2018)] illustrating the main features of the Th-Yb-Nb diagram [Pearce (2008)], including the mantle or 'MORB-OIB array' and the 'modern arc array'. | Figure from [Li et al. (2015)], illustrating the significant degree of overlap in these two dimensions between different tectonic settings renders this approach futile for generalized discrimination.  |\n",
    "\n",
    "<!--(BAB: Back Arc Basin, CA: Continental Arc, CFB: Continental Flood Basalt, IA: Island Arc, IOA: Intra-oceanic Arc, MOR: Mid-Ocean Ridge, OI: Ocean Island, OP: Oceanic Plateau) -->\n",
    "\n",
    "[Pearce, 1973]: https://doi.org/10.1016/0012-821X(73)90129-5 \"Pearce, J.A., Cann, J.R., 1973. Tectonic setting of basic volcanic rocks determined using trace element analyses. Earth and Planetary Science Letters 19, 290–300. doi: 10.1016/0012-821X(73)90129-5\"\n",
    "\n",
    "[Li et al. (2015)]: https://doi.org/10.1016/j.lithos.2015.06.022 \"Li, C., Arndt, N.T., Tang, Q., Ripley, E.M., 2015. Trace element indiscrimination diagrams. Lithos 232, 76–83. \"\n",
    "\n",
    "[Le Bas et al. 1992]: https://doi.org/10.1007/BF01160698 \"Le Bas M. J., Le Maitre R. W. and Woolley A. R., 1992. The construction of the Total Alkali-Silica chemical classification of volcanic rocks. Mineral. Petrol. 46, 1–22.\"\n",
    "\n",
    "[Smithies (2018)]: https://doi.org/10.1016/j.epsl.2018.01.034 \"Smithies, R.H., Ivanic, T.J., Lowrey, J.R., Morris, P.A., Barnes, S.J., Wyche, S., Lu, Y.-J., 2018. Two distinct origins for Archean greenstone belts. Earth and Planetary Science Letters 487, 106–116.\"\n",
    "\n",
    "[Pearce (2008)]: https://doi.org/10.1016/j.lithos.2007.06.016 \"Pearce, J.A., 2008. Geochemical fingerprinting of oceanic basalts with applications to ophiolite classification and the search for Archean oceanic crust. Lithos 100, 14–48.\"\n",
    "\n",
    "[Pearce, 2008]: https://doi.org/10.1016/j.lithos.2007.06.016 \"Pearce, J.A., 2008. Geochemical fingerprinting of oceanic basalts with applications to ophiolite classification and the search for Archean oceanic crust. Lithos 100, 14–48.\"\n",
    "\n",
    "[Petrelli, 2016]: https://doi.org/10.1007/s00410-016-1292-2 \"Petrelli, M., Perugini, D., 2016. Solving petrological problems through machine learning: the study case of tectonic discrimination using geochemical and isotopic data. Contrib Mineral Petrol 171, 81.\"\n",
    "\n",
    "[Ueki, 2018]: https://doi.org/10.1029/2017GC007401 \"Ueki, K., Hino, H., Kuwatani, T., 2018. Geochemical Discrimination and Characteristics of Magmatic Tectonic Settings: A Machine-Learning-Based Approach. Geochemistry, Geophysics, Geosystems 19, 1327–1347.\""
   ]
  },
  {
   "cell_type": "markdown",
   "metadata": {},
   "source": [
    "## Dataset and Preprocessing\n",
    "\n",
    "Here we go through a few simple preprocessing steps to get the dataset ready for input into our pipeline. For more on preprocessing (especially if you don't start from a nice data table like this one), [see the first example notebook on 'munging'](./01_munging.ipynb)"
   ]
  },
  {
   "cell_type": "code",
   "execution_count": 1,
   "metadata": {},
   "outputs": [],
   "source": [
    "import pandas as pd\n",
    "import numpy as np\n",
    "import pyrolite.geochem\n",
    "from util import get_onedrive_directlink\n",
    "\n",
    "ueki_2018_dataset_url = get_onedrive_directlink(\"https://1drv.ms/u/s!As2ibEui13xmkqQLTMPI4hn4ACEc_w?e=cmcqU8\")"
   ]
  },
  {
   "cell_type": "code",
   "execution_count": 2,
   "metadata": {},
   "outputs": [
    {
     "data": {
      "text/html": [
       "<div>\n",
       "<style scoped>\n",
       "    .dataframe tbody tr th:only-of-type {\n",
       "        vertical-align: middle;\n",
       "    }\n",
       "\n",
       "    .dataframe tbody tr th {\n",
       "        vertical-align: top;\n",
       "    }\n",
       "\n",
       "    .dataframe thead th {\n",
       "        text-align: right;\n",
       "    }\n",
       "</style>\n",
       "<table border=\"1\" class=\"dataframe\">\n",
       "  <thead>\n",
       "    <tr style=\"text-align: right;\">\n",
       "      <th></th>\n",
       "      <th>Cluster_ID</th>\n",
       "      <th>Number</th>\n",
       "      <th>SiO2</th>\n",
       "      <th>TiO2</th>\n",
       "      <th>Al2O3</th>\n",
       "      <th>Fe2O3</th>\n",
       "      <th>MgO</th>\n",
       "      <th>CaO</th>\n",
       "      <th>Na2O</th>\n",
       "      <th>K2O</th>\n",
       "      <th>...</th>\n",
       "      <th>Lu</th>\n",
       "      <th>Ba</th>\n",
       "      <th>Hf</th>\n",
       "      <th>Nb</th>\n",
       "      <th>Rb</th>\n",
       "      <th>Sr</th>\n",
       "      <th>Ta</th>\n",
       "      <th>Th</th>\n",
       "      <th>Y</th>\n",
       "      <th>Zr</th>\n",
       "    </tr>\n",
       "  </thead>\n",
       "  <tbody>\n",
       "    <tr>\n",
       "      <th>0</th>\n",
       "      <td>1</td>\n",
       "      <td>And1</td>\n",
       "      <td>50.755719</td>\n",
       "      <td>1.582925</td>\n",
       "      <td>15.114379</td>\n",
       "      <td>9.426062</td>\n",
       "      <td>8.843954</td>\n",
       "      <td>9.354575</td>\n",
       "      <td>3.053513</td>\n",
       "      <td>1.868873</td>\n",
       "      <td>...</td>\n",
       "      <td>0.30</td>\n",
       "      <td>609.0</td>\n",
       "      <td>4.1</td>\n",
       "      <td>31.0</td>\n",
       "      <td>39.0</td>\n",
       "      <td>911.0</td>\n",
       "      <td>2.0</td>\n",
       "      <td>8.3</td>\n",
       "      <td>25.0</td>\n",
       "      <td>185.0</td>\n",
       "    </tr>\n",
       "    <tr>\n",
       "      <th>1</th>\n",
       "      <td>1</td>\n",
       "      <td>And2</td>\n",
       "      <td>65.344932</td>\n",
       "      <td>0.799110</td>\n",
       "      <td>15.779891</td>\n",
       "      <td>4.491200</td>\n",
       "      <td>2.205139</td>\n",
       "      <td>4.127048</td>\n",
       "      <td>3.944973</td>\n",
       "      <td>3.307708</td>\n",
       "      <td>...</td>\n",
       "      <td>0.12</td>\n",
       "      <td>655.0</td>\n",
       "      <td>4.0</td>\n",
       "      <td>12.0</td>\n",
       "      <td>132.0</td>\n",
       "      <td>421.0</td>\n",
       "      <td>0.9</td>\n",
       "      <td>16.2</td>\n",
       "      <td>13.0</td>\n",
       "      <td>183.0</td>\n",
       "    </tr>\n",
       "    <tr>\n",
       "      <th>2</th>\n",
       "      <td>1</td>\n",
       "      <td>And3</td>\n",
       "      <td>64.282845</td>\n",
       "      <td>0.873845</td>\n",
       "      <td>15.970269</td>\n",
       "      <td>4.881479</td>\n",
       "      <td>2.480916</td>\n",
       "      <td>4.339092</td>\n",
       "      <td>4.037766</td>\n",
       "      <td>3.133789</td>\n",
       "      <td>...</td>\n",
       "      <td>0.11</td>\n",
       "      <td>798.0</td>\n",
       "      <td>5.6</td>\n",
       "      <td>11.0</td>\n",
       "      <td>113.0</td>\n",
       "      <td>525.0</td>\n",
       "      <td>0.8</td>\n",
       "      <td>14.1</td>\n",
       "      <td>12.0</td>\n",
       "      <td>236.0</td>\n",
       "    </tr>\n",
       "    <tr>\n",
       "      <th>3</th>\n",
       "      <td>1</td>\n",
       "      <td>And4</td>\n",
       "      <td>61.421320</td>\n",
       "      <td>1.015228</td>\n",
       "      <td>15.939086</td>\n",
       "      <td>6.335025</td>\n",
       "      <td>3.360406</td>\n",
       "      <td>5.431472</td>\n",
       "      <td>3.695431</td>\n",
       "      <td>2.802030</td>\n",
       "      <td>...</td>\n",
       "      <td>0.18</td>\n",
       "      <td>717.0</td>\n",
       "      <td>4.1</td>\n",
       "      <td>20.0</td>\n",
       "      <td>77.0</td>\n",
       "      <td>533.0</td>\n",
       "      <td>1.6</td>\n",
       "      <td>12.0</td>\n",
       "      <td>19.0</td>\n",
       "      <td>217.0</td>\n",
       "    </tr>\n",
       "    <tr>\n",
       "      <th>4</th>\n",
       "      <td>1</td>\n",
       "      <td>And5</td>\n",
       "      <td>59.801663</td>\n",
       "      <td>1.131924</td>\n",
       "      <td>15.927076</td>\n",
       "      <td>6.631273</td>\n",
       "      <td>4.137033</td>\n",
       "      <td>5.779826</td>\n",
       "      <td>4.086948</td>\n",
       "      <td>2.504257</td>\n",
       "      <td>...</td>\n",
       "      <td>0.14</td>\n",
       "      <td>664.0</td>\n",
       "      <td>5.4</td>\n",
       "      <td>14.0</td>\n",
       "      <td>78.0</td>\n",
       "      <td>607.0</td>\n",
       "      <td>1.5</td>\n",
       "      <td>11.2</td>\n",
       "      <td>15.0</td>\n",
       "      <td>233.0</td>\n",
       "    </tr>\n",
       "  </tbody>\n",
       "</table>\n",
       "<p>5 rows × 31 columns</p>\n",
       "</div>"
      ],
      "text/plain": [
       "   Cluster_ID Number       SiO2      TiO2      Al2O3     Fe2O3       MgO  \\\n",
       "0           1   And1  50.755719  1.582925  15.114379  9.426062  8.843954   \n",
       "1           1   And2  65.344932  0.799110  15.779891  4.491200  2.205139   \n",
       "2           1   And3  64.282845  0.873845  15.970269  4.881479  2.480916   \n",
       "3           1   And4  61.421320  1.015228  15.939086  6.335025  3.360406   \n",
       "4           1   And5  59.801663  1.131924  15.927076  6.631273  4.137033   \n",
       "\n",
       "        CaO      Na2O       K2O  ...    Lu     Ba   Hf    Nb     Rb     Sr  \\\n",
       "0  9.354575  3.053513  1.868873  ...  0.30  609.0  4.1  31.0   39.0  911.0   \n",
       "1  4.127048  3.944973  3.307708  ...  0.12  655.0  4.0  12.0  132.0  421.0   \n",
       "2  4.339092  4.037766  3.133789  ...  0.11  798.0  5.6  11.0  113.0  525.0   \n",
       "3  5.431472  3.695431  2.802030  ...  0.18  717.0  4.1  20.0   77.0  533.0   \n",
       "4  5.779826  4.086948  2.504257  ...  0.14  664.0  5.4  14.0   78.0  607.0   \n",
       "\n",
       "    Ta    Th     Y     Zr  \n",
       "0  2.0   8.3  25.0  185.0  \n",
       "1  0.9  16.2  13.0  183.0  \n",
       "2  0.8  14.1  12.0  236.0  \n",
       "3  1.6  12.0  19.0  217.0  \n",
       "4  1.5  11.2  15.0  233.0  \n",
       "\n",
       "[5 rows x 31 columns]"
      ]
     },
     "execution_count": 2,
     "metadata": {},
     "output_type": "execute_result"
    }
   ],
   "source": [
    "df = pd.read_csv(ueki_2018_dataset_url)\n",
    "df.head()"
   ]
  },
  {
   "cell_type": "code",
   "execution_count": 3,
   "metadata": {},
   "outputs": [
    {
     "data": {
      "text/plain": [
       "Index(['Cluster_ID', 'Number', 'SiO2', 'TiO2', 'Al2O3', 'Fe2O3', 'MgO', 'CaO',\n",
       "       'Na2O', 'K2O', 'SR87_SR86', 'Nd143_Nd144', 'Pb206_Pb204', 'Pb207_Pb204',\n",
       "       'Pb208_Pb204', 'La', 'Ce', 'Nd', 'Sm', 'Gd', 'Yb', 'Lu', 'Ba', 'Hf',\n",
       "       'Nb', 'Rb', 'Sr', 'Ta', 'Th', 'Y', 'Zr'],\n",
       "      dtype='object')"
      ]
     },
     "execution_count": 3,
     "metadata": {},
     "output_type": "execute_result"
    }
   ],
   "source": [
    "df.columns"
   ]
  },
  {
   "cell_type": "markdown",
   "metadata": {},
   "source": [
    "First we, can make sure that our different tectonic settings are represented in a readable way. Here we change `Cluster_ID` to contain an abbrevaition of the class name (BAB: Back Arc Basin, CA: Continental Arc, CFB: Continental Flood Basalt, IA: Island Arc, IOA: Intra-oceanic Arc, MOR: Mid-Ocean Ridge, OI: Ocean Island, OP: Oceanic Plateau):"
   ]
  },
  {
   "cell_type": "code",
   "execution_count": 4,
   "metadata": {},
   "outputs": [],
   "source": [
    "classes = [\"CA\", \"IA\", \"IOA\", \"BAB\", \"CFB\", \"MOR\", \"OP\", \"OI\"]\n",
    "class_converter = {ix + 1: classes[ix] for ix in range(len(classes))}\n",
    "df[\"Cluster_ID\"] = df[\"Cluster_ID\"].apply(lambda x: class_converter[x])"
   ]
  },
  {
   "cell_type": "code",
   "execution_count": 5,
   "metadata": {},
   "outputs": [],
   "source": [
    "df.pyrochem.add_ratio(\"Th/Yb\")\n",
    "df.pyrochem.add_ratio(\"Nb/Yb\");"
   ]
  },
  {
   "cell_type": "code",
   "execution_count": 6,
   "metadata": {},
   "outputs": [
    {
     "data": {
      "text/html": [
       "<div>\n",
       "<style scoped>\n",
       "    .dataframe tbody tr th:only-of-type {\n",
       "        vertical-align: middle;\n",
       "    }\n",
       "\n",
       "    .dataframe tbody tr th {\n",
       "        vertical-align: top;\n",
       "    }\n",
       "\n",
       "    .dataframe thead th {\n",
       "        text-align: right;\n",
       "    }\n",
       "</style>\n",
       "<table border=\"1\" class=\"dataframe\">\n",
       "  <thead>\n",
       "    <tr style=\"text-align: right;\">\n",
       "      <th></th>\n",
       "      <th>Cluster_ID</th>\n",
       "      <th>Number</th>\n",
       "      <th>SiO2</th>\n",
       "      <th>TiO2</th>\n",
       "      <th>Al2O3</th>\n",
       "      <th>Fe2O3</th>\n",
       "      <th>MgO</th>\n",
       "      <th>CaO</th>\n",
       "      <th>Na2O</th>\n",
       "      <th>K2O</th>\n",
       "      <th>...</th>\n",
       "      <th>Hf</th>\n",
       "      <th>Nb</th>\n",
       "      <th>Rb</th>\n",
       "      <th>Sr</th>\n",
       "      <th>Ta</th>\n",
       "      <th>Th</th>\n",
       "      <th>Y</th>\n",
       "      <th>Zr</th>\n",
       "      <th>Th/Yb</th>\n",
       "      <th>Nb/Yb</th>\n",
       "    </tr>\n",
       "  </thead>\n",
       "  <tbody>\n",
       "    <tr>\n",
       "      <th>0</th>\n",
       "      <td>CA</td>\n",
       "      <td>And1</td>\n",
       "      <td>50.755719</td>\n",
       "      <td>1.582925</td>\n",
       "      <td>15.114379</td>\n",
       "      <td>9.426062</td>\n",
       "      <td>8.843954</td>\n",
       "      <td>9.354575</td>\n",
       "      <td>3.053513</td>\n",
       "      <td>1.868873</td>\n",
       "      <td>...</td>\n",
       "      <td>4.1</td>\n",
       "      <td>31.0</td>\n",
       "      <td>39.0</td>\n",
       "      <td>911.0</td>\n",
       "      <td>2.0</td>\n",
       "      <td>8.3</td>\n",
       "      <td>25.0</td>\n",
       "      <td>185.0</td>\n",
       "      <td>4.150000</td>\n",
       "      <td>15.500000</td>\n",
       "    </tr>\n",
       "    <tr>\n",
       "      <th>1</th>\n",
       "      <td>CA</td>\n",
       "      <td>And2</td>\n",
       "      <td>65.344932</td>\n",
       "      <td>0.799110</td>\n",
       "      <td>15.779891</td>\n",
       "      <td>4.491200</td>\n",
       "      <td>2.205139</td>\n",
       "      <td>4.127048</td>\n",
       "      <td>3.944973</td>\n",
       "      <td>3.307708</td>\n",
       "      <td>...</td>\n",
       "      <td>4.0</td>\n",
       "      <td>12.0</td>\n",
       "      <td>132.0</td>\n",
       "      <td>421.0</td>\n",
       "      <td>0.9</td>\n",
       "      <td>16.2</td>\n",
       "      <td>13.0</td>\n",
       "      <td>183.0</td>\n",
       "      <td>19.756098</td>\n",
       "      <td>14.634146</td>\n",
       "    </tr>\n",
       "    <tr>\n",
       "      <th>2</th>\n",
       "      <td>CA</td>\n",
       "      <td>And3</td>\n",
       "      <td>64.282845</td>\n",
       "      <td>0.873845</td>\n",
       "      <td>15.970269</td>\n",
       "      <td>4.881479</td>\n",
       "      <td>2.480916</td>\n",
       "      <td>4.339092</td>\n",
       "      <td>4.037766</td>\n",
       "      <td>3.133789</td>\n",
       "      <td>...</td>\n",
       "      <td>5.6</td>\n",
       "      <td>11.0</td>\n",
       "      <td>113.0</td>\n",
       "      <td>525.0</td>\n",
       "      <td>0.8</td>\n",
       "      <td>14.1</td>\n",
       "      <td>12.0</td>\n",
       "      <td>236.0</td>\n",
       "      <td>17.848101</td>\n",
       "      <td>13.924051</td>\n",
       "    </tr>\n",
       "    <tr>\n",
       "      <th>3</th>\n",
       "      <td>CA</td>\n",
       "      <td>And4</td>\n",
       "      <td>61.421320</td>\n",
       "      <td>1.015228</td>\n",
       "      <td>15.939086</td>\n",
       "      <td>6.335025</td>\n",
       "      <td>3.360406</td>\n",
       "      <td>5.431472</td>\n",
       "      <td>3.695431</td>\n",
       "      <td>2.802030</td>\n",
       "      <td>...</td>\n",
       "      <td>4.1</td>\n",
       "      <td>20.0</td>\n",
       "      <td>77.0</td>\n",
       "      <td>533.0</td>\n",
       "      <td>1.6</td>\n",
       "      <td>12.0</td>\n",
       "      <td>19.0</td>\n",
       "      <td>217.0</td>\n",
       "      <td>9.022556</td>\n",
       "      <td>15.037594</td>\n",
       "    </tr>\n",
       "    <tr>\n",
       "      <th>4</th>\n",
       "      <td>CA</td>\n",
       "      <td>And5</td>\n",
       "      <td>59.801663</td>\n",
       "      <td>1.131924</td>\n",
       "      <td>15.927076</td>\n",
       "      <td>6.631273</td>\n",
       "      <td>4.137033</td>\n",
       "      <td>5.779826</td>\n",
       "      <td>4.086948</td>\n",
       "      <td>2.504257</td>\n",
       "      <td>...</td>\n",
       "      <td>5.4</td>\n",
       "      <td>14.0</td>\n",
       "      <td>78.0</td>\n",
       "      <td>607.0</td>\n",
       "      <td>1.5</td>\n",
       "      <td>11.2</td>\n",
       "      <td>15.0</td>\n",
       "      <td>233.0</td>\n",
       "      <td>11.666667</td>\n",
       "      <td>14.583333</td>\n",
       "    </tr>\n",
       "  </tbody>\n",
       "</table>\n",
       "<p>5 rows × 33 columns</p>\n",
       "</div>"
      ],
      "text/plain": [
       "  Cluster_ID Number       SiO2      TiO2      Al2O3     Fe2O3       MgO  \\\n",
       "0         CA   And1  50.755719  1.582925  15.114379  9.426062  8.843954   \n",
       "1         CA   And2  65.344932  0.799110  15.779891  4.491200  2.205139   \n",
       "2         CA   And3  64.282845  0.873845  15.970269  4.881479  2.480916   \n",
       "3         CA   And4  61.421320  1.015228  15.939086  6.335025  3.360406   \n",
       "4         CA   And5  59.801663  1.131924  15.927076  6.631273  4.137033   \n",
       "\n",
       "        CaO      Na2O       K2O  ...   Hf    Nb     Rb     Sr   Ta    Th  \\\n",
       "0  9.354575  3.053513  1.868873  ...  4.1  31.0   39.0  911.0  2.0   8.3   \n",
       "1  4.127048  3.944973  3.307708  ...  4.0  12.0  132.0  421.0  0.9  16.2   \n",
       "2  4.339092  4.037766  3.133789  ...  5.6  11.0  113.0  525.0  0.8  14.1   \n",
       "3  5.431472  3.695431  2.802030  ...  4.1  20.0   77.0  533.0  1.6  12.0   \n",
       "4  5.779826  4.086948  2.504257  ...  5.4  14.0   78.0  607.0  1.5  11.2   \n",
       "\n",
       "      Y     Zr      Th/Yb      Nb/Yb  \n",
       "0  25.0  185.0   4.150000  15.500000  \n",
       "1  13.0  183.0  19.756098  14.634146  \n",
       "2  12.0  236.0  17.848101  13.924051  \n",
       "3  19.0  217.0   9.022556  15.037594  \n",
       "4  15.0  233.0  11.666667  14.583333  \n",
       "\n",
       "[5 rows x 33 columns]"
      ]
     },
     "execution_count": 6,
     "metadata": {},
     "output_type": "execute_result"
    }
   ],
   "source": [
    "df.head()"
   ]
  },
  {
   "cell_type": "code",
   "execution_count": null,
   "metadata": {},
   "outputs": [],
   "source": []
  },
  {
   "cell_type": "code",
   "execution_count": 7,
   "metadata": {},
   "outputs": [],
   "source": [
    "compositional_variables = df.pyrochem.list_compositional \n",
    "abundances = [i for i in df.columns if i in compositional_variables]\n",
    "isotopes = [i for i in df.columns if i not in [\"Cluster_ID\", 'Number'] and i not in compositional_variables]\n",
    " \n",
    "classes = list(df.Cluster_ID.unique())"
   ]
  },
  {
   "cell_type": "markdown",
   "metadata": {},
   "source": [
    "## A Simple Classifier\n",
    "\n",
    "For sake of illustration, we can build a simple classifier here and see what the minimum steps required to have a working model look like:"
   ]
  },
  {
   "cell_type": "code",
   "execution_count": 8,
   "metadata": {},
   "outputs": [],
   "source": [
    "from sklearn.preprocessing import StandardScaler\n",
    "from sklearn.model_selection import train_test_split\n",
    "from sklearn.svm import SVC\n",
    "from sklearn.pipeline import make_pipeline\n",
    "from sklearn import set_config\n",
    "set_config(display='diagram')"
   ]
  },
  {
   "cell_type": "markdown",
   "metadata": {},
   "source": [
    "First we need to decide what we wish to predict - in this case we want to predict the `Cluster_ID` using the element and oxide abundances together with the isotope ratios:"
   ]
  },
  {
   "cell_type": "code",
   "execution_count": 9,
   "metadata": {},
   "outputs": [],
   "source": [
    "X, y = df.loc[:, abundances + isotopes], df[\"Cluster_ID\"]"
   ]
  },
  {
   "cell_type": "markdown",
   "metadata": {},
   "source": [
    "From this we can create some independent training and test sets so we can more accurately asses the performance of the model we're about to create and make sure our model is more generalisable:"
   ]
  },
  {
   "cell_type": "code",
   "execution_count": 10,
   "metadata": {},
   "outputs": [],
   "source": [
    "X_train, X_test, y_train, y_test = train_test_split(X, \n",
    "                                                    y, \n",
    "                                                    stratify=y, \n",
    "                                                    test_size=0.3)"
   ]
  },
  {
   "cell_type": "markdown",
   "metadata": {},
   "source": [
    "Rather than use the data as-is, we should first scale it so that it's within the range which our classifier model is optimised for (typically -1 to 1 or so). Here we can use a standard scaler which normalises each of our variables to their respective mean and standard deviations. We can combine this with a classifier model and construct a pipeline. Here we've used a support vector classifier model (SVC), which should deal with our relatively limited dataset more readily than more complex models might:"
   ]
  },
  {
   "cell_type": "code",
   "execution_count": 11,
   "metadata": {},
   "outputs": [
    {
     "data": {
      "text/html": [
       "<style>div.sk-top-container {color: black;background-color: white;}div.sk-toggleable {background-color: white;}label.sk-toggleable__label {cursor: pointer;display: block;width: 100%;margin-bottom: 0;padding: 0.2em 0.3em;box-sizing: border-box;text-align: center;}div.sk-toggleable__content {max-height: 0;max-width: 0;overflow: hidden;text-align: left;background-color: #f0f8ff;}div.sk-toggleable__content pre {margin: 0.2em;color: black;border-radius: 0.25em;background-color: #f0f8ff;}input.sk-toggleable__control:checked~div.sk-toggleable__content {max-height: 200px;max-width: 100%;overflow: auto;}div.sk-estimator input.sk-toggleable__control:checked~label.sk-toggleable__label {background-color: #d4ebff;}div.sk-label input.sk-toggleable__control:checked~label.sk-toggleable__label {background-color: #d4ebff;}input.sk-hidden--visually {border: 0;clip: rect(1px 1px 1px 1px);clip: rect(1px, 1px, 1px, 1px);height: 1px;margin: -1px;overflow: hidden;padding: 0;position: absolute;width: 1px;}div.sk-estimator {font-family: monospace;background-color: #f0f8ff;margin: 0.25em 0.25em;border: 1px dotted black;border-radius: 0.25em;box-sizing: border-box;}div.sk-estimator:hover {background-color: #d4ebff;}div.sk-parallel-item::after {content: \"\";width: 100%;border-bottom: 1px solid gray;flex-grow: 1;}div.sk-label:hover label.sk-toggleable__label {background-color: #d4ebff;}div.sk-serial::before {content: \"\";position: absolute;border-left: 1px solid gray;box-sizing: border-box;top: 2em;bottom: 0;left: 50%;}div.sk-serial {display: flex;flex-direction: column;align-items: center;background-color: white;}div.sk-item {z-index: 1;}div.sk-parallel {display: flex;align-items: stretch;justify-content: center;background-color: white;}div.sk-parallel-item {display: flex;flex-direction: column;position: relative;background-color: white;}div.sk-parallel-item:first-child::after {align-self: flex-end;width: 50%;}div.sk-parallel-item:last-child::after {align-self: flex-start;width: 50%;}div.sk-parallel-item:only-child::after {width: 0;}div.sk-dashed-wrapped {border: 1px dashed gray;margin: 0.2em;box-sizing: border-box;padding-bottom: 0.1em;background-color: white;position: relative;}div.sk-label label {font-family: monospace;font-weight: bold;background-color: white;display: inline-block;line-height: 1.2em;}div.sk-label-container {position: relative;z-index: 2;text-align: center;}div.sk-container {display: inline-block;position: relative;}</style><div class=\"sk-top-container\"><div class=\"sk-container\"><div class=\"sk-item sk-dashed-wrapped\"><div class=\"sk-label-container\"><div class=\"sk-label sk-toggleable\"><input class=\"sk-toggleable__control sk-hidden--visually\" id=\"cc6a7cc5-38be-4385-b2ff-f40c0cdf6c8c\" type=\"checkbox\" ><label class=\"sk-toggleable__label\" for=\"cc6a7cc5-38be-4385-b2ff-f40c0cdf6c8c\">Pipeline</label><div class=\"sk-toggleable__content\"><pre>Pipeline(steps=[('standardscaler', StandardScaler()), ('svc', SVC())])</pre></div></div></div><div class=\"sk-serial\"><div class=\"sk-item\"><div class=\"sk-estimator sk-toggleable\"><input class=\"sk-toggleable__control sk-hidden--visually\" id=\"4ebe7a49-600a-4c33-a67c-142831bae52b\" type=\"checkbox\" ><label class=\"sk-toggleable__label\" for=\"4ebe7a49-600a-4c33-a67c-142831bae52b\">StandardScaler</label><div class=\"sk-toggleable__content\"><pre>StandardScaler()</pre></div></div></div><div class=\"sk-item\"><div class=\"sk-estimator sk-toggleable\"><input class=\"sk-toggleable__control sk-hidden--visually\" id=\"a5ccfe7e-0097-4a60-8251-96d43351e93d\" type=\"checkbox\" ><label class=\"sk-toggleable__label\" for=\"a5ccfe7e-0097-4a60-8251-96d43351e93d\">SVC</label><div class=\"sk-toggleable__content\"><pre>SVC()</pre></div></div></div></div></div></div></div>"
      ],
      "text/plain": [
       "Pipeline(steps=[('standardscaler', StandardScaler()), ('svc', SVC())])"
      ]
     },
     "execution_count": 11,
     "metadata": {},
     "output_type": "execute_result"
    }
   ],
   "source": [
    "svc_pipeline = make_pipeline(StandardScaler(), SVC())\n",
    "svc_pipeline"
   ]
  },
  {
   "cell_type": "markdown",
   "metadata": {},
   "source": [
    "We can now fit our simple classifer model, with the training data:"
   ]
  },
  {
   "cell_type": "code",
   "execution_count": 12,
   "metadata": {},
   "outputs": [],
   "source": [
    "svc_pipeline.fit(X_train, y_train);"
   ]
  },
  {
   "cell_type": "markdown",
   "metadata": {},
   "source": [
    "We can quickly check how well this classifier performs overall by seeing what percentage of our testing data it accurately classifies:"
   ]
  },
  {
   "cell_type": "code",
   "execution_count": 13,
   "metadata": {},
   "outputs": [
    {
     "data": {
      "text/plain": [
       "'Overall Accuracy: 88.4%'"
      ]
     },
     "execution_count": 13,
     "metadata": {},
     "output_type": "execute_result"
    }
   ],
   "source": [
    "svcscore = svc_pipeline.score(X_test, y_test)\n",
    "\"Overall Accuracy: {:.1f}%\".format(svcscore*100)"
   ]
  },
  {
   "cell_type": "markdown",
   "metadata": {},
   "source": [
    "That's not bad for a few lines of code and a fairly small dataset!"
   ]
  },
  {
   "cell_type": "markdown",
   "metadata": {},
   "source": [
    "## Adding Some Detail\n",
    "\n",
    "We can improve on this simple model by adding in a few extra steps, parameters and details. Here we create a probabilistic equivalent of our SVC model, and independently process our abudnance and isotopic data to account for their naturally non-normal distributions. Additionally, we build a number of different models and choose the best of the bunch. First we'll build a pipeline, then put this within a grid search cross-validation optimizer which will search across a grid of specified parameter ranges to find a more optimal model."
   ]
  },
  {
   "cell_type": "code",
   "execution_count": 14,
   "metadata": {},
   "outputs": [
    {
     "data": {
      "text/html": [
       "<style>div.sk-top-container {color: black;background-color: white;}div.sk-toggleable {background-color: white;}label.sk-toggleable__label {cursor: pointer;display: block;width: 100%;margin-bottom: 0;padding: 0.2em 0.3em;box-sizing: border-box;text-align: center;}div.sk-toggleable__content {max-height: 0;max-width: 0;overflow: hidden;text-align: left;background-color: #f0f8ff;}div.sk-toggleable__content pre {margin: 0.2em;color: black;border-radius: 0.25em;background-color: #f0f8ff;}input.sk-toggleable__control:checked~div.sk-toggleable__content {max-height: 200px;max-width: 100%;overflow: auto;}div.sk-estimator input.sk-toggleable__control:checked~label.sk-toggleable__label {background-color: #d4ebff;}div.sk-label input.sk-toggleable__control:checked~label.sk-toggleable__label {background-color: #d4ebff;}input.sk-hidden--visually {border: 0;clip: rect(1px 1px 1px 1px);clip: rect(1px, 1px, 1px, 1px);height: 1px;margin: -1px;overflow: hidden;padding: 0;position: absolute;width: 1px;}div.sk-estimator {font-family: monospace;background-color: #f0f8ff;margin: 0.25em 0.25em;border: 1px dotted black;border-radius: 0.25em;box-sizing: border-box;}div.sk-estimator:hover {background-color: #d4ebff;}div.sk-parallel-item::after {content: \"\";width: 100%;border-bottom: 1px solid gray;flex-grow: 1;}div.sk-label:hover label.sk-toggleable__label {background-color: #d4ebff;}div.sk-serial::before {content: \"\";position: absolute;border-left: 1px solid gray;box-sizing: border-box;top: 2em;bottom: 0;left: 50%;}div.sk-serial {display: flex;flex-direction: column;align-items: center;background-color: white;}div.sk-item {z-index: 1;}div.sk-parallel {display: flex;align-items: stretch;justify-content: center;background-color: white;}div.sk-parallel-item {display: flex;flex-direction: column;position: relative;background-color: white;}div.sk-parallel-item:first-child::after {align-self: flex-end;width: 50%;}div.sk-parallel-item:last-child::after {align-self: flex-start;width: 50%;}div.sk-parallel-item:only-child::after {width: 0;}div.sk-dashed-wrapped {border: 1px dashed gray;margin: 0.2em;box-sizing: border-box;padding-bottom: 0.1em;background-color: white;position: relative;}div.sk-label label {font-family: monospace;font-weight: bold;background-color: white;display: inline-block;line-height: 1.2em;}div.sk-label-container {position: relative;z-index: 2;text-align: center;}div.sk-container {display: inline-block;position: relative;}</style><div class=\"sk-top-container\"><div class=\"sk-container\"><div class=\"sk-item sk-dashed-wrapped\"><div class=\"sk-label-container\"><div class=\"sk-label sk-toggleable\"><input class=\"sk-toggleable__control sk-hidden--visually\" id=\"ab831903-f284-4f40-aece-650a0102f90b\" type=\"checkbox\" ><label class=\"sk-toggleable__label\" for=\"ab831903-f284-4f40-aece-650a0102f90b\">Pipeline</label><div class=\"sk-toggleable__content\"><pre>Pipeline(steps=[('columntransformer',\n",
       "                 ColumnTransformer(transformers=[('abundances', CLRTransform(),\n",
       "                                                  ['SiO2', 'TiO2', 'Al2O3',\n",
       "                                                   'Fe2O3', 'MgO', 'CaO',\n",
       "                                                   'Na2O', 'K2O', 'La', 'Ce',\n",
       "                                                   'Nd', 'Sm', 'Gd', 'Yb', 'Lu',\n",
       "                                                   'Ba', 'Hf', 'Nb', 'Rb', 'Sr',\n",
       "                                                   'Ta', 'Th', 'Y', 'Zr']),\n",
       "                                                 ('isotopes', LogTransform(),\n",
       "                                                  ['SR87_SR86', 'Nd143_Nd144',\n",
       "                                                   'Pb206_Pb204', 'Pb207_Pb204',\n",
       "                                                   'Pb208_Pb204', 'Th/Yb',\n",
       "                                                   'Nb/Yb'])])),\n",
       "                ('standardscaler', StandardScaler()),\n",
       "                ('svc',\n",
       "                 SVC(class_weight='balanced', decision_function_shape='ovo',\n",
       "                     probability=True))])</pre></div></div></div><div class=\"sk-serial\"><div class=\"sk-item sk-dashed-wrapped\"><div class=\"sk-label-container\"><div class=\"sk-label sk-toggleable\"><input class=\"sk-toggleable__control sk-hidden--visually\" id=\"218e0f96-f623-485b-b0f1-58abbbbbfea1\" type=\"checkbox\" ><label class=\"sk-toggleable__label\" for=\"218e0f96-f623-485b-b0f1-58abbbbbfea1\">columntransformer: ColumnTransformer</label><div class=\"sk-toggleable__content\"><pre>ColumnTransformer(transformers=[('abundances', CLRTransform(),\n",
       "                                 ['SiO2', 'TiO2', 'Al2O3', 'Fe2O3', 'MgO',\n",
       "                                  'CaO', 'Na2O', 'K2O', 'La', 'Ce', 'Nd', 'Sm',\n",
       "                                  'Gd', 'Yb', 'Lu', 'Ba', 'Hf', 'Nb', 'Rb',\n",
       "                                  'Sr', 'Ta', 'Th', 'Y', 'Zr']),\n",
       "                                ('isotopes', LogTransform(),\n",
       "                                 ['SR87_SR86', 'Nd143_Nd144', 'Pb206_Pb204',\n",
       "                                  'Pb207_Pb204', 'Pb208_Pb204', 'Th/Yb',\n",
       "                                  'Nb/Yb'])])</pre></div></div></div><div class=\"sk-parallel\"><div class=\"sk-parallel-item\"><div class=\"sk-item\"><div class=\"sk-label-container\"><div class=\"sk-label sk-toggleable\"><input class=\"sk-toggleable__control sk-hidden--visually\" id=\"a07307f9-d3d8-4667-9e37-eb4ecf9b14a4\" type=\"checkbox\" ><label class=\"sk-toggleable__label\" for=\"a07307f9-d3d8-4667-9e37-eb4ecf9b14a4\">abundances</label><div class=\"sk-toggleable__content\"><pre>['SiO2', 'TiO2', 'Al2O3', 'Fe2O3', 'MgO', 'CaO', 'Na2O', 'K2O', 'La', 'Ce', 'Nd', 'Sm', 'Gd', 'Yb', 'Lu', 'Ba', 'Hf', 'Nb', 'Rb', 'Sr', 'Ta', 'Th', 'Y', 'Zr']</pre></div></div></div><div class=\"sk-serial\"><div class=\"sk-item\"><div class=\"sk-estimator sk-toggleable\"><input class=\"sk-toggleable__control sk-hidden--visually\" id=\"ec9c1a9e-a22c-4ae0-b740-e1162597f401\" type=\"checkbox\" ><label class=\"sk-toggleable__label\" for=\"ec9c1a9e-a22c-4ae0-b740-e1162597f401\">CLRTransform</label><div class=\"sk-toggleable__content\"><pre>CLRTransform()</pre></div></div></div></div></div></div><div class=\"sk-parallel-item\"><div class=\"sk-item\"><div class=\"sk-label-container\"><div class=\"sk-label sk-toggleable\"><input class=\"sk-toggleable__control sk-hidden--visually\" id=\"98629e23-ad5f-4099-92ae-02b8580fd0c9\" type=\"checkbox\" ><label class=\"sk-toggleable__label\" for=\"98629e23-ad5f-4099-92ae-02b8580fd0c9\">isotopes</label><div class=\"sk-toggleable__content\"><pre>['SR87_SR86', 'Nd143_Nd144', 'Pb206_Pb204', 'Pb207_Pb204', 'Pb208_Pb204', 'Th/Yb', 'Nb/Yb']</pre></div></div></div><div class=\"sk-serial\"><div class=\"sk-item\"><div class=\"sk-estimator sk-toggleable\"><input class=\"sk-toggleable__control sk-hidden--visually\" id=\"ca990808-9281-438c-bb68-5d38f75b98eb\" type=\"checkbox\" ><label class=\"sk-toggleable__label\" for=\"ca990808-9281-438c-bb68-5d38f75b98eb\">LogTransform</label><div class=\"sk-toggleable__content\"><pre>LogTransform()</pre></div></div></div></div></div></div></div></div><div class=\"sk-item\"><div class=\"sk-estimator sk-toggleable\"><input class=\"sk-toggleable__control sk-hidden--visually\" id=\"707bdd3e-a1fa-496e-8b06-8caf3cec3a9b\" type=\"checkbox\" ><label class=\"sk-toggleable__label\" for=\"707bdd3e-a1fa-496e-8b06-8caf3cec3a9b\">StandardScaler</label><div class=\"sk-toggleable__content\"><pre>StandardScaler()</pre></div></div></div><div class=\"sk-item\"><div class=\"sk-estimator sk-toggleable\"><input class=\"sk-toggleable__control sk-hidden--visually\" id=\"0b15c318-f688-4e74-9bb9-5f5761c74d31\" type=\"checkbox\" ><label class=\"sk-toggleable__label\" for=\"0b15c318-f688-4e74-9bb9-5f5761c74d31\">SVC</label><div class=\"sk-toggleable__content\"><pre>SVC(class_weight='balanced', decision_function_shape='ovo', probability=True)</pre></div></div></div></div></div></div></div>"
      ],
      "text/plain": [
       "Pipeline(steps=[('columntransformer',\n",
       "                 ColumnTransformer(transformers=[('abundances', CLRTransform(),\n",
       "                                                  ['SiO2', 'TiO2', 'Al2O3',\n",
       "                                                   'Fe2O3', 'MgO', 'CaO',\n",
       "                                                   'Na2O', 'K2O', 'La', 'Ce',\n",
       "                                                   'Nd', 'Sm', 'Gd', 'Yb', 'Lu',\n",
       "                                                   'Ba', 'Hf', 'Nb', 'Rb', 'Sr',\n",
       "                                                   'Ta', 'Th', 'Y', 'Zr']),\n",
       "                                                 ('isotopes', LogTransform(),\n",
       "                                                  ['SR87_SR86', 'Nd143_Nd144',\n",
       "                                                   'Pb206_Pb204', 'Pb207_Pb204',\n",
       "                                                   'Pb208_Pb204', 'Th/Yb',\n",
       "                                                   'Nb/Yb'])])),\n",
       "                ('standardscaler', StandardScaler()),\n",
       "                ('svc',\n",
       "                 SVC(class_weight='balanced', decision_function_shape='ovo',\n",
       "                     probability=True))])"
      ]
     },
     "execution_count": 14,
     "metadata": {},
     "output_type": "execute_result"
    }
   ],
   "source": [
    "from sklearn.compose import ColumnTransformer\n",
    "from pyrolite.util.skl.transform import CLRTransform, LogTransform\n",
    "\n",
    "# transform the abudnances and isotope ratios differently - accounting for their compositional and log-normal distributions, repsectively\n",
    "transform = ColumnTransformer([(\"abundances\", CLRTransform(), abundances), (\"isotopes\", LogTransform(), isotopes)])\n",
    "\n",
    "# make a scaler, as before\n",
    "scaler = StandardScaler()\n",
    "\n",
    "# build a one-versus-others radial basis function SVC which is calibrated for probabilistic output, and balances performance across classes\n",
    "clf = SVC(kernel=\"rbf\", decision_function_shape=\"ovo\", probability=True, class_weight=\"balanced\")\n",
    "\n",
    "# put these together in a pipeline\n",
    "pipeline = make_pipeline(transform, scaler, clf)\n",
    "pipeline"
   ]
  },
  {
   "cell_type": "markdown",
   "metadata": {},
   "source": [
    "Now we can put this in our gridsearch:"
   ]
  },
  {
   "cell_type": "code",
   "execution_count": 15,
   "metadata": {},
   "outputs": [
    {
     "data": {
      "text/html": [
       "<style>div.sk-top-container {color: black;background-color: white;}div.sk-toggleable {background-color: white;}label.sk-toggleable__label {cursor: pointer;display: block;width: 100%;margin-bottom: 0;padding: 0.2em 0.3em;box-sizing: border-box;text-align: center;}div.sk-toggleable__content {max-height: 0;max-width: 0;overflow: hidden;text-align: left;background-color: #f0f8ff;}div.sk-toggleable__content pre {margin: 0.2em;color: black;border-radius: 0.25em;background-color: #f0f8ff;}input.sk-toggleable__control:checked~div.sk-toggleable__content {max-height: 200px;max-width: 100%;overflow: auto;}div.sk-estimator input.sk-toggleable__control:checked~label.sk-toggleable__label {background-color: #d4ebff;}div.sk-label input.sk-toggleable__control:checked~label.sk-toggleable__label {background-color: #d4ebff;}input.sk-hidden--visually {border: 0;clip: rect(1px 1px 1px 1px);clip: rect(1px, 1px, 1px, 1px);height: 1px;margin: -1px;overflow: hidden;padding: 0;position: absolute;width: 1px;}div.sk-estimator {font-family: monospace;background-color: #f0f8ff;margin: 0.25em 0.25em;border: 1px dotted black;border-radius: 0.25em;box-sizing: border-box;}div.sk-estimator:hover {background-color: #d4ebff;}div.sk-parallel-item::after {content: \"\";width: 100%;border-bottom: 1px solid gray;flex-grow: 1;}div.sk-label:hover label.sk-toggleable__label {background-color: #d4ebff;}div.sk-serial::before {content: \"\";position: absolute;border-left: 1px solid gray;box-sizing: border-box;top: 2em;bottom: 0;left: 50%;}div.sk-serial {display: flex;flex-direction: column;align-items: center;background-color: white;}div.sk-item {z-index: 1;}div.sk-parallel {display: flex;align-items: stretch;justify-content: center;background-color: white;}div.sk-parallel-item {display: flex;flex-direction: column;position: relative;background-color: white;}div.sk-parallel-item:first-child::after {align-self: flex-end;width: 50%;}div.sk-parallel-item:last-child::after {align-self: flex-start;width: 50%;}div.sk-parallel-item:only-child::after {width: 0;}div.sk-dashed-wrapped {border: 1px dashed gray;margin: 0.2em;box-sizing: border-box;padding-bottom: 0.1em;background-color: white;position: relative;}div.sk-label label {font-family: monospace;font-weight: bold;background-color: white;display: inline-block;line-height: 1.2em;}div.sk-label-container {position: relative;z-index: 2;text-align: center;}div.sk-container {display: inline-block;position: relative;}</style><div class=\"sk-top-container\"><div class=\"sk-container\"><div class=\"sk-item sk-dashed-wrapped\"><div class=\"sk-label-container\"><div class=\"sk-label sk-toggleable\"><input class=\"sk-toggleable__control sk-hidden--visually\" id=\"ae9ce8a6-4b73-48a4-910c-6158a68fa8a6\" type=\"checkbox\" ><label class=\"sk-toggleable__label\" for=\"ae9ce8a6-4b73-48a4-910c-6158a68fa8a6\">GridSearchCV</label><div class=\"sk-toggleable__content\"><pre>GridSearchCV(cv=StratifiedKFold(n_splits=6, random_state=None, shuffle=True),\n",
       "             estimator=Pipeline(steps=[('columntransformer',\n",
       "                                        ColumnTransformer(transformers=[('abundances',\n",
       "                                                                         CLRTransform(),\n",
       "                                                                         ['SiO2',\n",
       "                                                                          'TiO2',\n",
       "                                                                          'Al2O3',\n",
       "                                                                          'Fe2O3',\n",
       "                                                                          'MgO',\n",
       "                                                                          'CaO',\n",
       "                                                                          'Na2O',\n",
       "                                                                          'K2O',\n",
       "                                                                          'La',\n",
       "                                                                          'Ce',\n",
       "                                                                          'Nd',\n",
       "                                                                          'Sm',\n",
       "                                                                          'Gd',\n",
       "                                                                          'Yb',\n",
       "                                                                          'Lu',\n",
       "                                                                          'Ba',\n",
       "                                                                          'Hf',\n",
       "                                                                          'Nb',\n",
       "                                                                          'Rb',\n",
       "                                                                          'Sr',\n",
       "                                                                          'Ta',\n",
       "                                                                          'Th',\n",
       "                                                                          'Y',\n",
       "                                                                          'Zr']),\n",
       "                                                                        ('isotopes',\n",
       "                                                                         LogTransform(),\n",
       "                                                                         ['S...\n",
       "                                        SVC(class_weight='balanced',\n",
       "                                            decision_function_shape='ovo',\n",
       "                                            probability=True))]),\n",
       "             n_jobs=4,\n",
       "             param_grid={'svc__C': array([3.16227766e-01, 8.48342898e-01, 2.27584593e+00, 6.10540230e+00,\n",
       "       1.63789371e+01, 4.39397056e+01, 1.17876863e+02, 3.16227766e+02]),\n",
       "                         'svc__gamma': array([0.00501187, 0.00807501, 0.01301025, 0.0209618 , 0.03377314,\n",
       "       0.05441446, 0.08767124, 0.14125375])},\n",
       "             verbose=3)</pre></div></div></div><div class=\"sk-parallel\"><div class=\"sk-parallel-item\"><div class=\"sk-item\"><div class=\"sk-serial\"><div class=\"sk-item\"><div class=\"sk-serial\"><div class=\"sk-item sk-dashed-wrapped\"><div class=\"sk-label-container\"><div class=\"sk-label sk-toggleable\"><input class=\"sk-toggleable__control sk-hidden--visually\" id=\"193523e5-8272-4f71-bf97-bdecc53b666a\" type=\"checkbox\" ><label class=\"sk-toggleable__label\" for=\"193523e5-8272-4f71-bf97-bdecc53b666a\">columntransformer: ColumnTransformer</label><div class=\"sk-toggleable__content\"><pre>ColumnTransformer(transformers=[('abundances', CLRTransform(),\n",
       "                                 ['SiO2', 'TiO2', 'Al2O3', 'Fe2O3', 'MgO',\n",
       "                                  'CaO', 'Na2O', 'K2O', 'La', 'Ce', 'Nd', 'Sm',\n",
       "                                  'Gd', 'Yb', 'Lu', 'Ba', 'Hf', 'Nb', 'Rb',\n",
       "                                  'Sr', 'Ta', 'Th', 'Y', 'Zr']),\n",
       "                                ('isotopes', LogTransform(),\n",
       "                                 ['SR87_SR86', 'Nd143_Nd144', 'Pb206_Pb204',\n",
       "                                  'Pb207_Pb204', 'Pb208_Pb204', 'Th/Yb',\n",
       "                                  'Nb/Yb'])])</pre></div></div></div><div class=\"sk-parallel\"><div class=\"sk-parallel-item\"><div class=\"sk-item\"><div class=\"sk-label-container\"><div class=\"sk-label sk-toggleable\"><input class=\"sk-toggleable__control sk-hidden--visually\" id=\"5913d603-1a12-492e-84b1-a1cbf51e0de4\" type=\"checkbox\" ><label class=\"sk-toggleable__label\" for=\"5913d603-1a12-492e-84b1-a1cbf51e0de4\">abundances</label><div class=\"sk-toggleable__content\"><pre>['SiO2', 'TiO2', 'Al2O3', 'Fe2O3', 'MgO', 'CaO', 'Na2O', 'K2O', 'La', 'Ce', 'Nd', 'Sm', 'Gd', 'Yb', 'Lu', 'Ba', 'Hf', 'Nb', 'Rb', 'Sr', 'Ta', 'Th', 'Y', 'Zr']</pre></div></div></div><div class=\"sk-serial\"><div class=\"sk-item\"><div class=\"sk-estimator sk-toggleable\"><input class=\"sk-toggleable__control sk-hidden--visually\" id=\"3aa13e58-cb92-4483-a563-e1802266638c\" type=\"checkbox\" ><label class=\"sk-toggleable__label\" for=\"3aa13e58-cb92-4483-a563-e1802266638c\">CLRTransform</label><div class=\"sk-toggleable__content\"><pre>CLRTransform()</pre></div></div></div></div></div></div><div class=\"sk-parallel-item\"><div class=\"sk-item\"><div class=\"sk-label-container\"><div class=\"sk-label sk-toggleable\"><input class=\"sk-toggleable__control sk-hidden--visually\" id=\"dc83c75b-d4de-4771-9da3-ef0c655f48e5\" type=\"checkbox\" ><label class=\"sk-toggleable__label\" for=\"dc83c75b-d4de-4771-9da3-ef0c655f48e5\">isotopes</label><div class=\"sk-toggleable__content\"><pre>['SR87_SR86', 'Nd143_Nd144', 'Pb206_Pb204', 'Pb207_Pb204', 'Pb208_Pb204', 'Th/Yb', 'Nb/Yb']</pre></div></div></div><div class=\"sk-serial\"><div class=\"sk-item\"><div class=\"sk-estimator sk-toggleable\"><input class=\"sk-toggleable__control sk-hidden--visually\" id=\"f5ec596e-3285-49dc-b43c-d8d31624c492\" type=\"checkbox\" ><label class=\"sk-toggleable__label\" for=\"f5ec596e-3285-49dc-b43c-d8d31624c492\">LogTransform</label><div class=\"sk-toggleable__content\"><pre>LogTransform()</pre></div></div></div></div></div></div></div></div><div class=\"sk-item\"><div class=\"sk-estimator sk-toggleable\"><input class=\"sk-toggleable__control sk-hidden--visually\" id=\"d5f1a3bc-5909-4e33-99a1-ba6d477d5de0\" type=\"checkbox\" ><label class=\"sk-toggleable__label\" for=\"d5f1a3bc-5909-4e33-99a1-ba6d477d5de0\">StandardScaler</label><div class=\"sk-toggleable__content\"><pre>StandardScaler()</pre></div></div></div><div class=\"sk-item\"><div class=\"sk-estimator sk-toggleable\"><input class=\"sk-toggleable__control sk-hidden--visually\" id=\"243803a2-0c3a-42c0-ba23-748771b27171\" type=\"checkbox\" ><label class=\"sk-toggleable__label\" for=\"243803a2-0c3a-42c0-ba23-748771b27171\">SVC</label><div class=\"sk-toggleable__content\"><pre>SVC(class_weight='balanced', decision_function_shape='ovo', probability=True)</pre></div></div></div></div></div></div></div></div></div></div></div></div>"
      ],
      "text/plain": [
       "GridSearchCV(cv=StratifiedKFold(n_splits=6, random_state=None, shuffle=True),\n",
       "             estimator=Pipeline(steps=[('columntransformer',\n",
       "                                        ColumnTransformer(transformers=[('abundances',\n",
       "                                                                         CLRTransform(),\n",
       "                                                                         ['SiO2',\n",
       "                                                                          'TiO2',\n",
       "                                                                          'Al2O3',\n",
       "                                                                          'Fe2O3',\n",
       "                                                                          'MgO',\n",
       "                                                                          'CaO',\n",
       "                                                                          'Na2O',\n",
       "                                                                          'K2O',\n",
       "                                                                          'La',\n",
       "                                                                          'Ce',\n",
       "                                                                          'Nd',\n",
       "                                                                          'Sm',\n",
       "                                                                          'Gd',\n",
       "                                                                          'Yb',\n",
       "                                                                          'Lu',\n",
       "                                                                          'Ba',\n",
       "                                                                          'Hf',\n",
       "                                                                          'Nb',\n",
       "                                                                          'Rb',\n",
       "                                                                          'Sr',\n",
       "                                                                          'Ta',\n",
       "                                                                          'Th',\n",
       "                                                                          'Y',\n",
       "                                                                          'Zr']),\n",
       "                                                                        ('isotopes',\n",
       "                                                                         LogTransform(),\n",
       "                                                                         ['S...\n",
       "                                        SVC(class_weight='balanced',\n",
       "                                            decision_function_shape='ovo',\n",
       "                                            probability=True))]),\n",
       "             n_jobs=4,\n",
       "             param_grid={'svc__C': array([3.16227766e-01, 8.48342898e-01, 2.27584593e+00, 6.10540230e+00,\n",
       "       1.63789371e+01, 4.39397056e+01, 1.17876863e+02, 3.16227766e+02]),\n",
       "                         'svc__gamma': array([0.00501187, 0.00807501, 0.01301025, 0.0209618 , 0.03377314,\n",
       "       0.05441446, 0.08767124, 0.14125375])},\n",
       "             verbose=3)"
      ]
     },
     "execution_count": 15,
     "metadata": {},
     "output_type": "execute_result"
    }
   ],
   "source": [
    "from sklearn.model_selection import StratifiedKFold, GridSearchCV\n",
    "param_grid = dict(svc__gamma=np.logspace(-2.3, -0.85, 8), svc__C=np.logspace(-0.5, 2.5, 8)) # limit C parameter to avoid overfitting   \n",
    "gs = GridSearchCV(estimator=pipeline, param_grid=param_grid, cv=StratifiedKFold(n_splits=6, shuffle=True), n_jobs=4, verbose=3)\n",
    "gs"
   ]
  },
  {
   "cell_type": "markdown",
   "metadata": {},
   "source": [
    "From here we'll train the various models over the parameter grid (building 64 different models, each 6 times):"
   ]
  },
  {
   "cell_type": "code",
   "execution_count": null,
   "metadata": {},
   "outputs": [
    {
     "name": "stdout",
     "output_type": "stream",
     "text": [
      "Fitting 6 folds for each of 64 candidates, totalling 384 fits\n"
     ]
    }
   ],
   "source": [
    "gs.fit(X_train, y_train)"
   ]
  },
  {
   "cell_type": "markdown",
   "metadata": {},
   "source": [
    "## How does our model perform?\n",
    "\n",
    "We can see that our model peforms slightly better:"
   ]
  },
  {
   "cell_type": "code",
   "execution_count": null,
   "metadata": {},
   "outputs": [],
   "source": [
    "gridscore = gs.score(X_test, y_test)\n",
    "\"Overall Accuracy: {:.1f}%\".format(gridscore*100)"
   ]
  },
  {
   "cell_type": "markdown",
   "metadata": {},
   "source": [
    "But more importantly, the model should be more generalizable, and should have more balanced performance across our classes. To look at this in a little more detail, we can examine the confusion matricies for each of our models - which examines how samples from the test set were predicted to fall, compared to their true classes. One thing to note here is that where samples are incorrectly classified, they tend to be incorrectly classified as from similar tecotnic settings. For example, back arc basin related samples are relatively commonly incorrectly classified as being form island arcs, intra-oceanic arcs and mid ocean ridges; all of these have geological and geochemical similarities to the back arc basin samples."
   ]
  },
  {
   "cell_type": "code",
   "execution_count": null,
   "metadata": {},
   "outputs": [],
   "source": [
    "import matplotlib.pyplot as plt\n",
    "from pyrolite.util.skl.vis import plot_confusion_matrix\n",
    "fig, ax = plt.subplots(1, 2, figsize=(12, 5))\n",
    "\n",
    "plot_confusion_matrix(svc_pipeline, X_test, y_test, normalize=True, ax=ax[0])\n",
    "plot_confusion_matrix(gs.best_estimator_, X_test, y_test, normalize=True, ax=ax[1])\n",
    "\n",
    "ax[0].set_title('Simple Pipeline')\n",
    "ax[1].set_title('Customised Pipeline')"
   ]
  },
  {
   "cell_type": "markdown",
   "metadata": {},
   "source": [
    "## How does this compare to a graphical classification equivalent?\n",
    "\n",
    "Revisiting the original scenario we described above, we can examine how our classifier does compared to e.g. the Pearce Th-Nb-Yb diagram at discriminating tectonic settings:"
   ]
  },
  {
   "cell_type": "code",
   "execution_count": null,
   "metadata": {},
   "outputs": [],
   "source": [
    "from pyrolite.plot.color import process_color\n",
    "from pyrolite.plot.templates import pearceThNbYb\n",
    "from pyrolite.util.plot.legend import proxy_line\n",
    "\n",
    "fig, ax = plt.subplots(1, figsize=(10, 6))\n",
    "pearceThNbYb(ax)\n",
    "\n",
    "colors = process_color(gs.best_estimator_.predict(X.loc[:, abundances + isotopes]), cmap='tab10', alpha=0.8)['c']\n",
    "\n",
    "for ID in df.Cluster_ID.unique():\n",
    "    subdf = df.loc[df.Cluster_ID==ID, :]\n",
    "    subdf[['Nb/Yb', 'Th/Yb']].pyroplot.scatter(c=colors[df.Cluster_ID==ID], ax=ax, s=10, alpha=0.7)\n",
    "    \n",
    "ax.legend([proxy_line(c=coll.get_facecolors()[0], marker='o', ls='none') for coll in ax.collections],\n",
    "          df.Cluster_ID.unique(),\n",
    "          frameon=False,\n",
    "          facecolor=None)\n",
    "plt.show()"
   ]
  },
  {
   "cell_type": "markdown",
   "metadata": {},
   "source": [
    "## Probabilistic Outputs\n",
    "\n",
    "As we briefly mentioned above, we've used a probabilisitic version of a SVC model (calibrated using Platt scaling) to provide some probabilstic classificaiton outputs. We can examine what these look like for a selection of samples from the independed test set compared to their true tectonic settings."
   ]
  },
  {
   "cell_type": "code",
   "execution_count": null,
   "metadata": {},
   "outputs": [],
   "source": [
    "samples = np.random.choice(np.arange(X_test.shape[0]), 8, replace=False)\n",
    "probs = (\n",
    "    pd.DataFrame(\n",
    "        data=gs.best_estimator_.predict_proba(X_test.iloc[samples]),\n",
    "        columns=gs.best_estimator_.classes_,\n",
    "    )\n",
    "    * 100\n",
    ")\n",
    "probs[\"True Tectonic Setting\"] = y_test.iloc[samples].tolist()\n",
    "table = probs[probs.columns[::-1]].round(2)\n",
    "table.style.background_gradient(cmap=\"Blues\", axis=1)"
   ]
  },
  {
   "cell_type": "markdown",
   "metadata": {},
   "source": [
    "While most of these are likely to be correctly classified - this provides some information which could be used to better understand the realistic performance of the model itself, as well as provide measures which can be linked to classificaiton uncertainty (get in touch if you want to know more on this front!)."
   ]
  },
  {
   "cell_type": "markdown",
   "metadata": {},
   "source": [
    "## How can someone else use this on their own data?\n",
    "\n",
    "While it's great to be able to build your own models, you'll likely eventually want to share your workflow and potentially the models themselves (perhaps even to put it into an app!). In the first instance, you could easily share and re-use this notebook with someone else - and that's a great first step! Beyond this, to make it reproducible, you should also provide some information to control the enviornment in which models are being built - like the versions of the packages you're using, system the models are build on, and the 'version' of the notebook which is used. Others could then re-train a model with your data, or create a new model using your workflow with their own data.\n",
    "\n",
    "You can also save your models to disk and share them with others such that they can be loaded directly. For example, you can save either the model, pipeline or entire ensemble of models from our gridsearch:"
   ]
  },
  {
   "cell_type": "code",
   "execution_count": null,
   "metadata": {},
   "outputs": [],
   "source": [
    "import joblib\n",
    "\n",
    "joblib.dump(gs._best_estimator, './pipeline.pkl') # just save the best pipeline\n",
    "joblib.dump(gs, './gridsearch.pkl') # save all the pipelines"
   ]
  },
  {
   "cell_type": "markdown",
   "metadata": {},
   "source": [
    "And then load them back in:"
   ]
  },
  {
   "cell_type": "code",
   "execution_count": null,
   "metadata": {},
   "outputs": [],
   "source": [
    "gs = joblib.load('./gridsearch.pkl')\n",
    "estimator = joblib.load('./pipeline.pkl')"
   ]
  },
  {
   "cell_type": "code",
   "execution_count": null,
   "metadata": {},
   "outputs": [],
   "source": [
    "estimator"
   ]
  },
  {
   "cell_type": "markdown",
   "metadata": {},
   "source": [
    "The serialization of trained models and entire pipelines allows the models themselves (and the preprocessing steps) to be effectively reused."
   ]
  },
  {
   "cell_type": "markdown",
   "metadata": {},
   "source": [
    "## Beyond A Prototype\n",
    "\n",
    "While we've put things togtether in a Jupyter notebook, eventually you might want to put this workflow together as a function which you might store in a separate `.py` file such that it can be imported and more easily referenced, versioned and adapted."
   ]
  }
 ],
 "metadata": {
  "kernelspec": {
   "display_name": "pyrolite",
   "language": "python",
   "name": "pyrolite"
  },
  "language_info": {
   "codemirror_mode": {
    "name": "ipython",
    "version": 3
   },
   "file_extension": ".py",
   "mimetype": "text/x-python",
   "name": "python",
   "nbconvert_exporter": "python",
   "pygments_lexer": "ipython3",
   "version": "3.7.9"
  }
 },
 "nbformat": 4,
 "nbformat_minor": 4
}
